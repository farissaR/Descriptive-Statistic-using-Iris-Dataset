{
 "cells": [
  {
   "cell_type": "markdown",
   "id": "bc56f9f8",
   "metadata": {},
   "source": [
    "# Descriptive Statistics"
   ]
  },
  {
   "cell_type": "markdown",
   "id": "b6993a5c",
   "metadata": {},
   "source": [
    "this section consist of:\n",
    "\n",
    "* Measure of Central Tendency\n",
    "* Measure of Dispersion (Variability)\n",
    "* Shape of The Data\n",
    "* How descriptive Statistic used in Data Science"
   ]
  },
  {
   "cell_type": "markdown",
   "id": "ece2ae50",
   "metadata": {},
   "source": [
    "# Measure of Central Tendency"
   ]
  },
  {
   "cell_type": "markdown",
   "id": "6b76cccc",
   "metadata": {},
   "source": [
    "to describe a set of data by identifying the central position within that set of data, sometimes called measure of central location"
   ]
  },
  {
   "cell_type": "code",
   "execution_count": 1,
   "id": "a06df71f",
   "metadata": {},
   "outputs": [],
   "source": [
    "import pandas as pd\n",
    "import numpy as np"
   ]
  },
  {
   "cell_type": "code",
   "execution_count": 2,
   "id": "49dd67ec",
   "metadata": {},
   "outputs": [
    {
     "data": {
      "text/html": [
       "<div>\n",
       "<style scoped>\n",
       "    .dataframe tbody tr th:only-of-type {\n",
       "        vertical-align: middle;\n",
       "    }\n",
       "\n",
       "    .dataframe tbody tr th {\n",
       "        vertical-align: top;\n",
       "    }\n",
       "\n",
       "    .dataframe thead th {\n",
       "        text-align: right;\n",
       "    }\n",
       "</style>\n",
       "<table border=\"1\" class=\"dataframe\">\n",
       "  <thead>\n",
       "    <tr style=\"text-align: right;\">\n",
       "      <th></th>\n",
       "      <th>sepallength</th>\n",
       "      <th>sepalwidth</th>\n",
       "      <th>petallength</th>\n",
       "      <th>petalwidth</th>\n",
       "      <th>class</th>\n",
       "    </tr>\n",
       "  </thead>\n",
       "  <tbody>\n",
       "    <tr>\n",
       "      <th>0</th>\n",
       "      <td>5.1</td>\n",
       "      <td>3.5</td>\n",
       "      <td>1.4</td>\n",
       "      <td>0.2</td>\n",
       "      <td>Iris-setosa</td>\n",
       "    </tr>\n",
       "    <tr>\n",
       "      <th>1</th>\n",
       "      <td>4.9</td>\n",
       "      <td>3.0</td>\n",
       "      <td>1.4</td>\n",
       "      <td>0.2</td>\n",
       "      <td>Iris-setosa</td>\n",
       "    </tr>\n",
       "    <tr>\n",
       "      <th>2</th>\n",
       "      <td>4.7</td>\n",
       "      <td>3.2</td>\n",
       "      <td>1.3</td>\n",
       "      <td>0.2</td>\n",
       "      <td>Iris-setosa</td>\n",
       "    </tr>\n",
       "    <tr>\n",
       "      <th>3</th>\n",
       "      <td>4.6</td>\n",
       "      <td>3.1</td>\n",
       "      <td>1.5</td>\n",
       "      <td>0.2</td>\n",
       "      <td>Iris-setosa</td>\n",
       "    </tr>\n",
       "    <tr>\n",
       "      <th>4</th>\n",
       "      <td>5.0</td>\n",
       "      <td>3.6</td>\n",
       "      <td>1.4</td>\n",
       "      <td>0.2</td>\n",
       "      <td>Iris-setosa</td>\n",
       "    </tr>\n",
       "  </tbody>\n",
       "</table>\n",
       "</div>"
      ],
      "text/plain": [
       "   sepallength  sepalwidth  petallength  petalwidth        class\n",
       "0          5.1         3.5          1.4         0.2  Iris-setosa\n",
       "1          4.9         3.0          1.4         0.2  Iris-setosa\n",
       "2          4.7         3.2          1.3         0.2  Iris-setosa\n",
       "3          4.6         3.1          1.5         0.2  Iris-setosa\n",
       "4          5.0         3.6          1.4         0.2  Iris-setosa"
      ]
     },
     "execution_count": 2,
     "metadata": {},
     "output_type": "execute_result"
    }
   ],
   "source": [
    "df = pd.read_csv(\"iris.csv\")\n",
    "df.head()"
   ]
  },
  {
   "cell_type": "code",
   "execution_count": 3,
   "id": "bdf7928a",
   "metadata": {},
   "outputs": [
    {
     "data": {
      "text/plain": [
       "5.843333333333335"
      ]
     },
     "execution_count": 3,
     "metadata": {},
     "output_type": "execute_result"
    }
   ],
   "source": [
    "#showing the mean of 'sepal length' column\n",
    "df['sepallength'].mean()"
   ]
  },
  {
   "cell_type": "markdown",
   "id": "79921d68",
   "metadata": {},
   "source": [
    "mean is the most basic measure of central tendency. it can be used in descrete and continous data, although most of then in continous data.\n",
    "\n",
    "\n",
    "the mean has one disadvantage: it is particulary susceptible to the influence of outliers. taking the median would be a better measure of central tendency if in this situation. as the data becomes skewed the mean loses its ability to provide the best central location for the data because the skewed data is dragging it away from the typical value."
   ]
  },
  {
   "cell_type": "code",
   "execution_count": 4,
   "id": "ed474ae4",
   "metadata": {},
   "outputs": [
    {
     "data": {
      "text/plain": [
       "5.8"
      ]
     },
     "execution_count": 4,
     "metadata": {},
     "output_type": "execute_result"
    }
   ],
   "source": [
    "#showing the median of 'Sepal length' column\n",
    "df['sepallength'].median()"
   ]
  },
  {
   "cell_type": "markdown",
   "id": "768a6358",
   "metadata": {},
   "source": [
    "median is the middle number on a sorted list of the data. the median is less affected by outliers and skewd data."
   ]
  },
  {
   "cell_type": "code",
   "execution_count": 13,
   "id": "4aee6b23",
   "metadata": {},
   "outputs": [
    {
     "data": {
      "text/plain": [
       "{'whiskers': [<matplotlib.lines.Line2D at 0x176ee980250>,\n",
       "  <matplotlib.lines.Line2D at 0x176ee9805b0>],\n",
       " 'caps': [<matplotlib.lines.Line2D at 0x176ee980910>,\n",
       "  <matplotlib.lines.Line2D at 0x176ee980c70>],\n",
       " 'boxes': [<matplotlib.lines.Line2D at 0x176ee970eb0>],\n",
       " 'medians': [<matplotlib.lines.Line2D at 0x176ee980fd0>],\n",
       " 'fliers': [<matplotlib.lines.Line2D at 0x176ee98b370>],\n",
       " 'means': []}"
      ]
     },
     "execution_count": 13,
     "metadata": {},
     "output_type": "execute_result"
    },
    {
     "data": {
      "image/png": "[encoded data removed]",
      "text/plain": [
       "<Figure size 432x288 with 1 Axes>"
      ]
     },
     "metadata": {
      "needs_background": "light"
     },
     "output_type": "display_data"
    }
   ],
   "source": [
    "#this is how outliers looks like in the data. we can see outliers using box plot\n",
    "plt.boxplot(df['sepalwidth'])"
   ]
  },
  {
   "cell_type": "markdown",
   "id": "da536e7f",
   "metadata": {},
   "source": [
    "point in above and below the wisker are the outliers of the data in column 'sepal width'"
   ]
  },
  {
   "cell_type": "code",
   "execution_count": 14,
   "id": "c45564f0",
   "metadata": {},
   "outputs": [
    {
     "data": {
      "text/plain": [
       "0    5.0\n",
       "dtype: float64"
      ]
     },
     "execution_count": 14,
     "metadata": {},
     "output_type": "execute_result"
    }
   ],
   "source": [
    "df['sepallength'].mode()"
   ]
  },
  {
   "cell_type": "markdown",
   "id": "640ce4f4",
   "metadata": {},
   "source": [
    "mode is the most frequent score in the dataset. visualize in a bar plot make it easier to read the most frequent score in the data set"
   ]
  },
  {
   "cell_type": "code",
   "execution_count": 16,
   "id": "502db4c8",
   "metadata": {},
   "outputs": [
    {
     "data": {
      "text/plain": [
       "<BarContainer object of 150 artists>"
      ]
     },
     "execution_count": 16,
     "metadata": {},
     "output_type": "execute_result"
    },
    {
     "data": {
      "image/png": "[encoded data removed]",
      "text/plain": [
       "<Figure size 432x288 with 1 Axes>"
      ]
     },
     "metadata": {
      "needs_background": "light"
     },
     "output_type": "display_data"
    }
   ],
   "source": [
    "plt.bar(df['sepallength'], height = df['sepallength'].count())"
   ]
  },
  {
   "cell_type": "code",
   "execution_count": 17,
   "id": "36cebf7e",
   "metadata": {},
   "outputs": [
    {
     "data": {
      "text/html": [
       "<div>\n",
       "<style scoped>\n",
       "    .dataframe tbody tr th:only-of-type {\n",
       "        vertical-align: middle;\n",
       "    }\n",
       "\n",
       "    .dataframe tbody tr th {\n",
       "        vertical-align: top;\n",
       "    }\n",
       "\n",
       "    .dataframe thead th {\n",
       "        text-align: right;\n",
       "    }\n",
       "</style>\n",
       "<table border=\"1\" class=\"dataframe\">\n",
       "  <thead>\n",
       "    <tr style=\"text-align: right;\">\n",
       "      <th></th>\n",
       "      <th>sepallength</th>\n",
       "      <th>sepalwidth</th>\n",
       "      <th>petallength</th>\n",
       "      <th>petalwidth</th>\n",
       "    </tr>\n",
       "  </thead>\n",
       "  <tbody>\n",
       "    <tr>\n",
       "      <th>count</th>\n",
       "      <td>150.000000</td>\n",
       "      <td>150.000000</td>\n",
       "      <td>150.000000</td>\n",
       "      <td>150.000000</td>\n",
       "    </tr>\n",
       "    <tr>\n",
       "      <th>mean</th>\n",
       "      <td>5.843333</td>\n",
       "      <td>3.054000</td>\n",
       "      <td>3.758667</td>\n",
       "      <td>1.198667</td>\n",
       "    </tr>\n",
       "    <tr>\n",
       "      <th>std</th>\n",
       "      <td>0.828066</td>\n",
       "      <td>0.433594</td>\n",
       "      <td>1.764420</td>\n",
       "      <td>0.763161</td>\n",
       "    </tr>\n",
       "    <tr>\n",
       "      <th>min</th>\n",
       "      <td>4.300000</td>\n",
       "      <td>2.000000</td>\n",
       "      <td>1.000000</td>\n",
       "      <td>0.100000</td>\n",
       "    </tr>\n",
       "    <tr>\n",
       "      <th>25%</th>\n",
       "      <td>5.100000</td>\n",
       "      <td>2.800000</td>\n",
       "      <td>1.600000</td>\n",
       "      <td>0.300000</td>\n",
       "    </tr>\n",
       "    <tr>\n",
       "      <th>50%</th>\n",
       "      <td>5.800000</td>\n",
       "      <td>3.000000</td>\n",
       "      <td>4.350000</td>\n",
       "      <td>1.300000</td>\n",
       "    </tr>\n",
       "    <tr>\n",
       "      <th>75%</th>\n",
       "      <td>6.400000</td>\n",
       "      <td>3.300000</td>\n",
       "      <td>5.100000</td>\n",
       "      <td>1.800000</td>\n",
       "    </tr>\n",
       "    <tr>\n",
       "      <th>max</th>\n",
       "      <td>7.900000</td>\n",
       "      <td>4.400000</td>\n",
       "      <td>6.900000</td>\n",
       "      <td>2.500000</td>\n",
       "    </tr>\n",
       "  </tbody>\n",
       "</table>\n",
       "</div>"
      ],
      "text/plain": [
       "       sepallength  sepalwidth  petallength  petalwidth\n",
       "count   150.000000  150.000000   150.000000  150.000000\n",
       "mean      5.843333    3.054000     3.758667    1.198667\n",
       "std       0.828066    0.433594     1.764420    0.763161\n",
       "min       4.300000    2.000000     1.000000    0.100000\n",
       "25%       5.100000    2.800000     1.600000    0.300000\n",
       "50%       5.800000    3.000000     4.350000    1.300000\n",
       "75%       6.400000    3.300000     5.100000    1.800000\n",
       "max       7.900000    4.400000     6.900000    2.500000"
      ]
     },
     "execution_count": 17,
     "metadata": {},
     "output_type": "execute_result"
    }
   ],
   "source": [
    "#use this sytnax to show the description of the data\n",
    "df.describe()"
   ]
  },
  {
   "cell_type": "code",
   "execution_count": 18,
   "id": "06fcb1f5",
   "metadata": {},
   "outputs": [
    {
     "name": "stdout",
     "output_type": "stream",
     "text": [
      "<class 'pandas.core.frame.DataFrame'>\n",
      "RangeIndex: 150 entries, 0 to 149\n",
      "Data columns (total 5 columns):\n",
      " #   Column       Non-Null Count  Dtype  \n",
      "---  ------       --------------  -----  \n",
      " 0   sepallength  150 non-null    float64\n",
      " 1   sepalwidth   150 non-null    float64\n",
      " 2   petallength  150 non-null    float64\n",
      " 3   petalwidth   150 non-null    float64\n",
      " 4   class        150 non-null    object \n",
      "dtypes: float64(4), object(1)\n",
      "memory usage: 6.0+ KB\n"
     ]
    }
   ],
   "source": [
    "df.info()"
   ]
  },
  {
   "cell_type": "code",
   "execution_count": 4,
   "id": "6ea5e0db",
   "metadata": {},
   "outputs": [
    {
     "data": {
      "text/plain": [
       "(150, 5)"
      ]
     },
     "execution_count": 4,
     "metadata": {},
     "output_type": "execute_result"
    }
   ],
   "source": [
    "#data shape\n",
    "df.shape"
   ]
  },
  {
   "cell_type": "markdown",
   "id": "e68ff9ea",
   "metadata": {},
   "source": [
    "the shape of iris dataset consist of 150 rows and 5 columns"
   ]
  },
  {
   "cell_type": "code",
   "execution_count": 5,
   "id": "8cd75f6f",
   "metadata": {},
   "outputs": [
    {
     "data": {
      "text/plain": [
       "sepallength    False\n",
       "sepalwidth     False\n",
       "petallength    False\n",
       "petalwidth     False\n",
       "class          False\n",
       "dtype: bool"
      ]
     },
     "execution_count": 5,
     "metadata": {},
     "output_type": "execute_result"
    }
   ],
   "source": [
    "#checking if there are null values in the dataset\n",
    "df.isna().any()"
   ]
  },
  {
   "cell_type": "markdown",
   "id": "e73b4f74",
   "metadata": {},
   "source": [
    "there is no null values in the dataset"
   ]
  },
  {
   "cell_type": "code",
   "execution_count": 9,
   "id": "5e66a9a9",
   "metadata": {},
   "outputs": [],
   "source": [
    "import matplotlib.pyplot as plt\n",
    "import seaborn as sns"
   ]
  },
  {
   "cell_type": "markdown",
   "id": "0d132992",
   "metadata": {},
   "source": [
    "# Measure of Dispersion/Variability"
   ]
  },
  {
   "cell_type": "markdown",
   "id": "39fa6436",
   "metadata": {},
   "source": [
    "measure whether the data values are tightly clustered or  spread out. to measure central tendency we can use mean, median, etc. here are the ways to measure variablity:"
   ]
  },
  {
   "cell_type": "code",
   "execution_count": 21,
   "id": "7d7157c0",
   "metadata": {},
   "outputs": [
    {
     "data": {
      "text/plain": [
       "0.4335943113621737"
      ]
     },
     "execution_count": 21,
     "metadata": {},
     "output_type": "execute_result"
    }
   ],
   "source": [
    "#standard Deviation\n",
    "#using this syntax or using df.describe()\n",
    "df['sepalwidth'].std()"
   ]
  },
  {
   "cell_type": "code",
   "execution_count": 22,
   "id": "23cacb85",
   "metadata": {},
   "outputs": [
    {
     "name": "stdout",
     "output_type": "stream",
     "text": [
      "0.1867506666666667\n"
     ]
    }
   ],
   "source": [
    "#Variance\n",
    "import numpy as np\n",
    "\n",
    "print(np.var(df['sepalwidth']))"
   ]
  },
  {
   "cell_type": "markdown",
   "id": "e61904ce",
   "metadata": {},
   "source": [
    "standard deviation is much easier to interper than the variance since it is on the same scale as the original data. but, both of them are sensitive to outliers since they based on the squared deviations. a robust measure of variability is the Median Absolute Deviation (MAD). like the median, MAD is not influenced by extreme values."
   ]
  },
  {
   "cell_type": "code",
   "execution_count": 23,
   "id": "e8aae38a",
   "metadata": {},
   "outputs": [
    {
     "data": {
      "text/plain": [
       "0.25"
      ]
     },
     "execution_count": 23,
     "metadata": {},
     "output_type": "execute_result"
    }
   ],
   "source": [
    "#MAD\n",
    "from scipy import stats\n",
    "stats.median_abs_deviation(df['sepalwidth'])"
   ]
  },
  {
   "cell_type": "code",
   "execution_count": 7,
   "id": "8282b055",
   "metadata": {},
   "outputs": [
    {
     "data": {
      "text/plain": [
       "array([[<AxesSubplot:title={'center':'sepallength'}>,\n",
       "        <AxesSubplot:title={'center':'sepalwidth'}>],\n",
       "       [<AxesSubplot:title={'center':'petallength'}>,\n",
       "        <AxesSubplot:title={'center':'petalwidth'}>]], dtype=object)"
      ]
     },
     "execution_count": 7,
     "metadata": {},
     "output_type": "execute_result"
    },
    {
     "data": {
      "image/png": "[encoded data removed]",
      "text/plain": [
       "<Figure size 720x720 with 4 Axes>"
      ]
     },
     "metadata": {
      "needs_background": "light"
     },
     "output_type": "display_data"
    }
   ],
   "source": [
    "df.hist(figsize = (10,10))"
   ]
  },
  {
   "cell_type": "code",
   "execution_count": 24,
   "id": "c7c79585",
   "metadata": {},
   "outputs": [
    {
     "name": "stdout",
     "output_type": "stream",
     "text": [
      "2.4000000000000004\n"
     ]
    }
   ],
   "source": [
    "#Range: the difference between the largest and smallest number\n",
    "small = min(df['sepalwidth'])\n",
    "large = max(df['sepalwidth'])\n",
    "\n",
    "range_sepallength = large-small\n",
    "print(range_sepallength)"
   ]
  },
  {
   "cell_type": "markdown",
   "id": "0fafba4e",
   "metadata": {},
   "source": [
    "the maximum and minimum values are useful to know and are helful in identifying outliers, but range is extremely sensitive to outliers and not very useful as a general measure of dispersion in the data. to avoid the sensitivity to outliers, we can look at the range of the data after dropping value from each end."
   ]
  },
  {
   "cell_type": "code",
   "execution_count": 25,
   "id": "50e34de8",
   "metadata": {},
   "outputs": [
    {
     "name": "stdout",
     "output_type": "stream",
     "text": [
      "0.5\n"
     ]
    }
   ],
   "source": [
    "#Interquartile range (IQR)\n",
    "IQR = df['sepalwidth'].quantile(0.75) - df['sepalwidth'].quantile(0.25)\n",
    "print(IQR)"
   ]
  },
  {
   "cell_type": "code",
   "execution_count": 28,
   "id": "91e1db27",
   "metadata": {},
   "outputs": [
    {
     "data": {
      "text/plain": [
       "<AxesSubplot:xlabel='class', ylabel='sepalwidth'>"
      ]
     },
     "execution_count": 28,
     "metadata": {},
     "output_type": "execute_result"
    },
    {
     "data": {
      "image/png": "[encoded data removed]",
      "text/plain": [
       "<Figure size 432x288 with 1 Axes>"
      ]
     },
     "metadata": {
      "needs_background": "light"
     },
     "output_type": "display_data"
    }
   ],
   "source": [
    "sns.boxplot(x= 'class', y = 'sepalwidth', data = df)"
   ]
  },
  {
   "cell_type": "markdown",
   "id": "e2744eb7",
   "metadata": {},
   "source": [
    "# Shape of The Data"
   ]
  },
  {
   "cell_type": "markdown",
   "id": "a8068039",
   "metadata": {},
   "source": [
    "Skewness is a measure of asymmetry of a distribution.\n",
    "\n",
    "* in a normal ditribution, the mean divides the curve symmetrically into two equal parts at the median and the value of skewness is zero\n",
    "* when a distribution is asymmetrical the tail of the ditribution is skewed to one side to the right or to the left\n",
    "* when the value of the skewness is negative, the tail of the distribution is longer towards the left hand side of the curve\n",
    "\n",
    "Important Notes:\n",
    "* -0.5 - 0.5 = data fairly symmetrical\n",
    "* -1 and -0.5 or 0.5 - 1 = moderately skewed\n",
    "* less than -1 or greater than 1 = highly skewed"
   ]
  },
  {
   "cell_type": "code",
   "execution_count": 4,
   "id": "45fdbae6",
   "metadata": {},
   "outputs": [
    {
     "data": {
      "text/plain": [
       "sepallength    0.314911\n",
       "sepalwidth     0.334053\n",
       "petallength   -0.274464\n",
       "petalwidth    -0.104997\n",
       "dtype: float64"
      ]
     },
     "execution_count": 4,
     "metadata": {},
     "output_type": "execute_result"
    }
   ],
   "source": [
    "df.skew(axis=0)"
   ]
  },
  {
   "cell_type": "markdown",
   "id": "da16a0de",
   "metadata": {},
   "source": [
    "this data lies between -0.5 - 0.5 which fairly symmetric"
   ]
  },
  {
   "cell_type": "code",
   "execution_count": 5,
   "id": "3c268cc2",
   "metadata": {},
   "outputs": [],
   "source": [
    "titanic_dataset = pd.read_csv(\"titanic.csv\")"
   ]
  },
  {
   "cell_type": "code",
   "execution_count": 6,
   "id": "1b6fa889",
   "metadata": {},
   "outputs": [
    {
     "data": {
      "text/plain": [
       "PassengerId    0.000000\n",
       "Survived       0.478523\n",
       "Pclass        -0.630548\n",
       "Age            0.389108\n",
       "SibSp          3.695352\n",
       "Parch          2.749117\n",
       "Fare           4.787317\n",
       "dtype: float64"
      ]
     },
     "execution_count": 6,
     "metadata": {},
     "output_type": "execute_result"
    }
   ],
   "source": [
    "titanic_dataset.skew(axis=0)"
   ]
  },
  {
   "cell_type": "markdown",
   "id": "e0f25008",
   "metadata": {},
   "source": [
    "Kurtosis (excess kurtosis) measure quantify shape of a distribution. kurtosis determine the volume of the outlier or dtermines the heaviness of the distribution tails.\n",
    "\n",
    "* leptokurtic distribution(kurtosis>3) = the distribution is tall and thin. the values are near the mean or at the extremes\n",
    "* platykurtic distribution(kurtosis<3) = the distribution is flat and the values are moderately spread out\n",
    "* mesokurtic distribution(kurtosis=3) = the ditribution looks more close to a normal distribution\n",
    "\n",
    "Important Note:\n",
    "* skewness measure the symmetry of the distribution, while kurtosis determines the heaviness of the distribution tails\n",
    "* it is the sharpness of the peak of a frequency distribution curve. it is actually measure the outliers present in the idstribution\n",
    "* High kurtosis indicate data has heavy outliers\n",
    "* low kurtosis indicate data has lack outliers\n",
    "* (+) kurtosis value means pointy\n",
    "* (-) kurtosis value means flat"
   ]
  },
  {
   "cell_type": "code",
   "execution_count": 7,
   "id": "2d43e368",
   "metadata": {},
   "outputs": [
    {
     "data": {
      "text/plain": [
       "sepallength   -0.552064\n",
       "sepalwidth     0.290781\n",
       "petallength   -1.401921\n",
       "petalwidth    -1.339754\n",
       "dtype: float64"
      ]
     },
     "execution_count": 7,
     "metadata": {},
     "output_type": "execute_result"
    }
   ],
   "source": [
    "df.kurt(axis = 0)"
   ]
  },
  {
   "cell_type": "markdown",
   "id": "cb24e229",
   "metadata": {},
   "source": [
    "all of the kurtosis are below 3 whic means the distribution of each features are flat and the values are moderately spread out and all of the has lack outliers since the data has all low kurtosis. feature 'sepal width' is the only positive value whic mean it is pointy as visualization show below\n",
    "\n",
    "Generally, metrics are nor used to measure skewness and kurtosis, instead these are discovered through visual display"
   ]
  },
  {
   "cell_type": "code",
   "execution_count": 10,
   "id": "118e5104",
   "metadata": {},
   "outputs": [
    {
     "data": {
      "text/plain": [
       "<AxesSubplot:ylabel='Density'>"
      ]
     },
     "execution_count": 10,
     "metadata": {},
     "output_type": "execute_result"
    },
    {
     "data": {
      "image/png": "[encoded data removed]",
      "text/plain": [
       "<Figure size 432x288 with 1 Axes>"
      ]
     },
     "metadata": {
      "needs_background": "light"
     },
     "output_type": "display_data"
    }
   ],
   "source": [
    "df.plot(kind = 'density')"
   ]
  },
  {
   "cell_type": "code",
   "execution_count": null,
   "id": "cb7afda0",
   "metadata": {},
   "outputs": [],
   "source": []
  }
 ],
 "metadata": {
  "kernelspec": {
   "display_name": "Python 3",
   "language": "python",
   "name": "python3"
  },
  "language_info": {
   "codemirror_mode": {
    "name": "ipython",
    "version": 3
   },
   "file_extension": ".py",
   "mimetype": "text/x-python",
   "name": "python",
   "nbconvert_exporter": "python",
   "pygments_lexer": "ipython3",
   "version": "3.8.8"
  }
 },
 "nbformat": 4,
 "nbformat_minor": 5
}
